{
 "cells": [
  {
   "cell_type": "markdown",
   "id": "ac43f02f",
   "metadata": {},
   "source": [
    "# Weekly Activity"
   ]
  },
  {
   "cell_type": "code",
   "execution_count": 1,
   "id": "b18d06d2",
   "metadata": {},
   "outputs": [
    {
     "name": "stdout",
     "output_type": "stream",
     "text": [
      "Requirement already satisfied: imutils in c:\\users\\user\\anaconda3\\lib\\site-packages (0.5.4)\n"
     ]
    }
   ],
   "source": [
    "!pip install imutils"
   ]
  },
  {
   "cell_type": "code",
   "execution_count": 2,
   "id": "7bca2a90",
   "metadata": {},
   "outputs": [],
   "source": [
    "import sys\n",
    "assert sys.version_info >= (3, 7)\n",
    "\n",
    "import imutils\n",
    "import cv2 as cv\n",
    "import numpy as np"
   ]
  },
  {
   "cell_type": "markdown",
   "id": "bee260b6",
   "metadata": {},
   "source": [
    "## Exercise 1"
   ]
  },
  {
   "cell_type": "code",
   "execution_count": 3,
   "id": "572d0935",
   "metadata": {},
   "outputs": [],
   "source": [
    "img = cv.imread(\"images/lena.jfif\")\n",
    "\n",
    "# Rotate image by 45 degrees without cropping\n",
    "rotated_img = imutils.rotate_bound(img, 45)\n",
    "\n",
    "cv.imshow('Rotated Image', rotated_img)\n",
    "cv.waitKey(0)\n",
    "cv.destroyAllWindows()"
   ]
  },
  {
   "cell_type": "markdown",
   "id": "c8ebc247",
   "metadata": {},
   "source": [
    "## Exercise 2"
   ]
  },
  {
   "cell_type": "code",
   "execution_count": 5,
   "id": "de59ebbb",
   "metadata": {},
   "outputs": [],
   "source": [
    "img = cv.imread(\"images/flower.jfif\")\n",
    "img2 = cv.imread(\"images/native-bee.png\")\n",
    "\n",
    "img = cv.resize(img, (img2.shape[1], img2.shape[0]))\n",
    "\n",
    "img_gray = cv.cvtColor(img, cv.COLOR_BGR2GRAY)\n",
    "\n",
    "_, img_mask = cv.threshold(img_gray, 200, 255, cv.THRESH_BINARY)\n",
    "\n",
    "img_mask_invert = cv.bitwise_not(img_mask)\n",
    "\n",
    "roi = cv.bitwise_and(img2, img2, mask=img_mask_invert)\n",
    "\n",
    "result = cv.bitwise_or(roi, img)\n",
    "\n",
    "cv.imshow('Bee and Flowers', result)\n",
    "cv.waitKey(0)\n",
    "cv.destroyAllWindows()\n"
   ]
  },
  {
   "cell_type": "markdown",
   "id": "7ade65f8",
   "metadata": {},
   "source": [
    "## Exercise 3"
   ]
  },
  {
   "cell_type": "code",
   "execution_count": 6,
   "id": "675a7a3d",
   "metadata": {},
   "outputs": [],
   "source": [
    "img = cv.imread('images/native-bee.png')\n",
    "\n",
    "\n",
    "kernel_3x3 = np.array([[-1, -1, -1], \n",
    "                       [-1, 5, -1], \n",
    "                       [-1, -1, -1]], dtype=np.float32)\n",
    "\n",
    "kernel_5x5 = np.array([[-1, -1, -1, -1, -1],\n",
    "                       [-1, -1, -1, -1, -1],\n",
    "                       [-1, -1, 25, -1, -1],\n",
    "                       [-1, -1, -1, -1, -1],\n",
    "                       [-1, -1, -1, -1, -1]], dtype=np.float32)\n",
    "\n",
    "\n",
    "sharpened_img_3x3 = cv.filter2D(img, -1, kernel_3x3)\n",
    "sharpened_img_5x5 = cv.filter2D(img, -1, kernel_5x5)\n",
    "\n",
    "cv.imshow('Sharpened Image (3x3)', sharpened_img_3x3)\n",
    "cv.imshow('Sharpened Image (5x5)', sharpened_img_5x5)\n",
    "cv.waitKey(0)\n",
    "cv.destroyAllWindows()"
   ]
  },
  {
   "cell_type": "markdown",
   "id": "e2e92fc0",
   "metadata": {},
   "source": [
    "## Exercise 4"
   ]
  },
  {
   "cell_type": "code",
   "execution_count": 7,
   "id": "d093a6dc",
   "metadata": {},
   "outputs": [],
   "source": [
    "img = cv.imread('images/noise_lena.jpg')\n",
    "\n",
    "# Apply average filter \n",
    "average_filter = cv.blur(img, (5, 5))\n",
    "\n",
    "# Apply Gaussian blur \n",
    "gaussian_blur = cv.GaussianBlur(img, (5, 5), 0)\n",
    "\n",
    "# Apply median filter\n",
    "median_filter = cv.medianBlur(img, 5)\n",
    "\n",
    "# Apply Bilateral filter\n",
    "bilateral_filter = cv.bilateralFilter(img, 9, 75, 75)\n",
    "\n",
    "cv.imshow('Average Filter', average_filter)\n",
    "cv.imshow('Gaussian Blur', gaussian_blur)\n",
    "cv.imshow('Median Filter', median_filter)\n",
    "cv.imshow(\"Bilateral Filter\", bilateral_filter)\n",
    "cv.waitKey(0)\n",
    "cv.destroyAllWindows()"
   ]
  }
 ],
 "metadata": {
  "kernelspec": {
   "display_name": "Python 3 (ipykernel)",
   "language": "python",
   "name": "python3"
  },
  "language_info": {
   "codemirror_mode": {
    "name": "ipython",
    "version": 3
   },
   "file_extension": ".py",
   "mimetype": "text/x-python",
   "name": "python",
   "nbconvert_exporter": "python",
   "pygments_lexer": "ipython3",
   "version": "3.9.12"
  }
 },
 "nbformat": 4,
 "nbformat_minor": 5
}
