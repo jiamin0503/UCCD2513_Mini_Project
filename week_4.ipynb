{
 "cells": [
  {
   "cell_type": "markdown",
   "id": "41e37525",
   "metadata": {},
   "source": [
    "# Weekly activity\n",
    "1. Create a random noise color and grayscale image. You can set your own width and height, but keep the total number of pixels of both images identical.\n",
    "2. Convert the code chunk found under section Divide an image into smaller patches using cropping into a function with the following signature: \n",
    "    <br> crop_grid(img, num_horizontal_grid, num_vertical_grid, line_color) \n",
    "    <br> #img is the source image \n",
    "    <br> #num_horizontal_grid and num_vertical_grid are the number of patches along x and y axes. \n",
    "    <br> #line_color is the color of the grid line. \n",
    "    <br> #The output of the function should be image with grids \n",
    "3. Display image sequences of smooth transition of two images with different values of α. Refer to code in section \"Image blending\". Use \"lena.jfif\" and \"coins.jfif\" as the base images. \n",
    "4. Suppose you are a digital content creator and wish to share photo online. However, you wish to protect these images from being stolen or altered by others. Leverage your image processing knowledge to apply watermark on image \"travel_hd.jpg\". The example of resulting watermarked image are as shown in the following:"
   ]
  },
  {
   "cell_type": "code",
   "execution_count": 1,
   "id": "6b9eb671",
   "metadata": {},
   "outputs": [],
   "source": [
    "import sys\n",
    "assert sys.version_info>=(3,7)\n",
    "\n",
    "import cv2 as cv\n",
    "import numpy as np\n",
    "from util_func import show_img"
   ]
  },
  {
   "cell_type": "markdown",
   "id": "251f21d9",
   "metadata": {},
   "source": [
    "## Exercise 1"
   ]
  },
  {
   "cell_type": "code",
   "execution_count": 2,
   "id": "f2fdf2c4",
   "metadata": {},
   "outputs": [],
   "source": [
    "width = 250\n",
    "height = 250\n",
    "\n",
    "# create random noise color image\n",
    "color_image = np.random.randint(0, 256, (height, width, 3), dtype=np.uint8)\n",
    "cv.imwrite(\"random_noise_color_image.jpg\", color_image)\n",
    "cv.imshow(\"random noise color image\", color_image)\n",
    "\n",
    "# create random noise grayscale image\n",
    "grayscale_image = np.random.randint(0, 256, (height, width), dtype=np.uint8)\n",
    "cv.imwrite(\"random_noise_grayscale_image.jpg\", grayscale_image)\n",
    "cv.imshow(\"random noise grayscale image\", grayscale_image)\n",
    "\n",
    "cv.waitKey(0)\n",
    "cv.destroyAllWindows()"
   ]
  },
  {
   "cell_type": "markdown",
   "id": "2b962959",
   "metadata": {},
   "source": [
    "## Exercise 2"
   ]
  },
  {
   "cell_type": "code",
   "execution_count": 3,
   "id": "0c7eefbe",
   "metadata": {},
   "outputs": [],
   "source": [
    "def crop_grid(img, num_horizontal_grid, num_vertical_grid, line_color):\n",
    "    height, width, _ = img.shape\n",
    "    patch_width = width // num_horizontal_grid\n",
    "    patch_height = height // num_vertical_grid\n",
    "\n",
    "    # draw horizontal grid\n",
    "    for i in range(1, num_horizontal_grid):\n",
    "        x = i * patch_width\n",
    "        cv.line(img, (x, 0), (x, height), line_color, 1)\n",
    "\n",
    "    # draw vertical grid\n",
    "    for i in range(1, num_vertical_grid):\n",
    "        y = i * patch_height\n",
    "        cv.line(img, (0, y), (width, y), line_color, 1)\n",
    "\n",
    "    return img"
   ]
  },
  {
   "cell_type": "markdown",
   "id": "9f355dba",
   "metadata": {},
   "source": [
    "## Exercise 3"
   ]
  },
  {
   "cell_type": "code",
   "execution_count": 4,
   "id": "96a68aca",
   "metadata": {},
   "outputs": [],
   "source": [
    "img1 = cv.imread(\"images/lena.jfif\")\n",
    "img2 = cv.imread(\"images/coins.jfif\")\n",
    "\n",
    "h, w = img1.shape[:2]\n",
    "img2 = cv.resize(img2, (w, h))\n",
    "\n",
    "cv.namedWindow('Image Blending', cv.WINDOW_NORMAL)\n",
    "cv.resizeWindow('Image Blending', 250, 250)\n",
    "\n",
    "alpha_values = np.linspace(0, 1, 20)\n",
    "\n",
    "for alpha in alpha_values:\n",
    "    dst = cv.addWeighted(img1, alpha, img2, 1 - alpha, 0)\n",
    "    cv.imshow('Image Blending', dst)\n",
    "    cv.waitKey(200)  \n",
    "\n",
    "cv.destroyAllWindows()"
   ]
  },
  {
   "cell_type": "markdown",
   "id": "8d4a8da4",
   "metadata": {},
   "source": [
    "## Exercise 4"
   ]
  },
  {
   "cell_type": "code",
   "execution_count": 5,
   "id": "bb0b8c7a",
   "metadata": {},
   "outputs": [],
   "source": [
    "img = cv.imread('images/travel_hd.jpg')\n",
    "img = cv.resize(img, (520, 720))\n",
    "\n",
    "text1 = 'CV lab'\n",
    "text2 = 'UCCD2513'\n",
    "position1 = (40, img.shape[0] - 40)\n",
    "position2 = (position1[0] - 25 , position1[1] + 25)\n",
    "font = cv.FONT_HERSHEY_SIMPLEX\n",
    "font_scale = 0.8\n",
    "color = (98, 128, 128)  \n",
    "thickness = 2\n",
    "line_type = cv.LINE_AA\n",
    "\n",
    "cv.putText(img, text1, position1, font, font_scale, color, thickness, line_type)\n",
    "cv.putText(img, text2, position2, font, font_scale, color, thickness, line_type)\n",
    "\n",
    "cv.imshow('Watermarked Image', img)\n",
    "cv.waitKey(0)\n",
    "cv.destroyAllWindows()"
   ]
  }
 ],
 "metadata": {
  "kernelspec": {
   "display_name": "Python 3 (ipykernel)",
   "language": "python",
   "name": "python3"
  },
  "language_info": {
   "codemirror_mode": {
    "name": "ipython",
    "version": 3
   },
   "file_extension": ".py",
   "mimetype": "text/x-python",
   "name": "python",
   "nbconvert_exporter": "python",
   "pygments_lexer": "ipython3",
   "version": "3.9.12"
  }
 },
 "nbformat": 4,
 "nbformat_minor": 5
}
