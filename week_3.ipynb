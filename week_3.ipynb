{
 "cells": [
  {
   "cell_type": "code",
   "execution_count": 1,
   "id": "d9b99834",
   "metadata": {},
   "outputs": [],
   "source": [
    "import sys\n",
    "# at least Python 3.7\n",
    "assert sys.version_info >= (3,7)\n",
    "\n",
    "import numpy as np\n",
    "import cv2 as cv"
   ]
  },
  {
   "cell_type": "code",
   "execution_count": 2,
   "id": "4c231520",
   "metadata": {},
   "outputs": [
    {
     "name": "stdout",
     "output_type": "stream",
     "text": [
      "4.8.0\n"
     ]
    }
   ],
   "source": [
    "# check OpenCV version\n",
    "print(cv.__version__)"
   ]
  },
  {
   "cell_type": "markdown",
   "id": "e6c19985",
   "metadata": {},
   "source": [
    "## Exercise 3"
   ]
  },
  {
   "cell_type": "code",
   "execution_count": 3,
   "id": "1611e39a",
   "metadata": {},
   "outputs": [],
   "source": [
    "cap = cv.VideoCapture(\"videos/img_pexels.mp4\")\n",
    "\n",
    "fps = cap.get(cv.CAP_PROP_FPS)\n",
    "width = int(cap.get(cv.CAP_PROP_FRAME_WIDTH))\n",
    "height = int(cap.get(cv.CAP_PROP_FRAME_HEIGHT))\n",
    "\n",
    "smaller_width = int(width / 2) \n",
    "smaller_height = int(height / 2)  \n",
    "\n",
    "\n",
    "output = \"smaller_img_pexels.mp4v\"  \n",
    "fourcc = cv.VideoWriter_fourcc(*\"mp4v\")  \n",
    "out = cv.VideoWriter(output, fourcc, fps, (smaller_width, smaller_height))\n",
    "\n",
    "\n",
    "while cap.isOpened():\n",
    "    ret, frame = cap.read()\n",
    "    if not ret:\n",
    "        break\n",
    "\n",
    "\n",
    "    smaller_frame = cv.resize(frame, (smaller_width, smaller_height))\n",
    "\n",
    "\n",
    "    cv.imshow(\"Smaller Frames\", smaller_frame)\n",
    "    if cv.waitKey(1) & 0xFF == ord('q'):\n",
    "        break\n",
    "\n",
    "    out.write(smaller_frame)\n",
    "\n",
    "cap.release()\n",
    "out.release()\n",
    "cv.destroyAllWindows()"
   ]
  },
  {
   "cell_type": "markdown",
   "id": "2ec32676",
   "metadata": {},
   "source": [
    "## Exercise 4"
   ]
  },
  {
   "cell_type": "code",
   "execution_count": 4,
   "id": "e650d70d",
   "metadata": {},
   "outputs": [],
   "source": [
    "img = cv.imread('images/dog.jfif')\n",
    "\n",
    "scale_factor = 2\n",
    "height, width, _ = img.shape\n",
    "\n",
    "linear_interpolated_image = cv.resize(img, (width * scale_factor, height * scale_factor), interpolation = cv.INTER_LINEAR)\n",
    "cv.imshow('linear_interpolated_dog.jfif', linear_interpolated_image)\n",
    "\n",
    "cubic_interpolated_image = cv.resize(img, (width * scale_factor, height * scale_factor), interpolation = cv.INTER_CUBIC)\n",
    "cv.imshow('cubic_interpolated_dog.jfif', cubic_interpolated_image)\n",
    "\n",
    "nearest_neighbor_interpolated_image = cv.resize(img, (width * scale_factor, height * scale_factor), interpolation = cv.INTER_NEAREST)\n",
    "cv.imshow('nearest_neighbor_interpolated_dog.jfif', nearest_neighbor_interpolated_image)\n",
    "\n",
    "cv.waitKey(0)\n",
    "cv.destroyAllWindows()"
   ]
  }
 ],
 "metadata": {
  "kernelspec": {
   "display_name": "Python 3 (ipykernel)",
   "language": "python",
   "name": "python3"
  },
  "language_info": {
   "codemirror_mode": {
    "name": "ipython",
    "version": 3
   },
   "file_extension": ".py",
   "mimetype": "text/x-python",
   "name": "python",
   "nbconvert_exporter": "python",
   "pygments_lexer": "ipython3",
   "version": "3.9.12"
  }
 },
 "nbformat": 4,
 "nbformat_minor": 5
}
