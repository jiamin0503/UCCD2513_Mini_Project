{
 "cells": [
  {
   "cell_type": "markdown",
   "id": "f84010b0",
   "metadata": {},
   "source": [
    "# Weekly activity\n",
    "1.  Apply k-means clustering on 'zebra.jfif' to segment out the zebra.\n",
    "- You are required to determine the optimal k by plotting the within cluster sum of squares vs number of clusters (2-10).\n",
    "- Apply the clustering method on 3 color spaces: BGR, HSV and LAB. Compare the results obtained."
   ]
  },
  {
   "cell_type": "code",
   "execution_count": null,
   "id": "38d28934",
   "metadata": {},
   "outputs": [],
   "source": [
    "!pip install requests"
   ]
  },
  {
   "cell_type": "code",
   "execution_count": null,
   "id": "af1bc47a",
   "metadata": {},
   "outputs": [],
   "source": [
    "import sys\n",
    "assert sys.version_info >= (3, 7)\n",
    "\n",
    "import numpy as np\n",
    "\n",
    "import cv2 as cv\n",
    "from matplotlib import pyplot as plt\n",
    "from util_func import *\n",
    "\n",
    "if not cv.useOptimized():\n",
    "    cv.setUseOptimized(True)\n",
    "    \n",
    "cv.useOptimized()\n"
   ]
  },
  {
   "cell_type": "code",
   "execution_count": null,
   "id": "68e5a11c",
   "metadata": {},
   "outputs": [],
   "source": [
    "!pip install scikit-learn\n"
   ]
  },
  {
   "cell_type": "code",
   "execution_count": null,
   "id": "31fac583",
   "metadata": {},
   "outputs": [],
   "source": [
    "from sklearn.cluster import KMeans\n",
    "\n",
    "img_path = 'images/zebra.jfif'\n",
    "img = cv.imread(img_path)\n",
    "\n",
    "bgr_img = img\n",
    "hsv_img = cv.cvtColor(img, cv.COLOR_BGR2HSV)\n",
    "lab_img = cv.cvtColor(img, cv.COLOR_BGR2LAB)\n",
    "\n",
    "color_spaces = [(bgr_img, 'BGR'), (hsv_img, 'HSV'), (lab_img, 'LAB')]\n",
    "\n",
    "optimal_k = 3\n",
    "\n",
    "for img, color_space_name in color_spaces:\n",
    "    \n",
    "    pixels = img.reshape((-1, 3))\n",
    "\n",
    "    kmeans = KMeans(n_clusters=optimal_k, random_state=0)\n",
    "    kmeans.fit(pixels)\n",
    "    \n",
    "    cluster_centers = kmeans.cluster_centers_\n",
    "    labels = kmeans.labels_\n",
    "    segmented_img = cluster_centers[labels].reshape(img.shape)\n",
    "  \n",
    "    plt.figure(figsize=(8, 8))\n",
    "    plt.imshow(cv.cvtColor(segmented_img, cv.COLOR_BGR2RGB))\n",
    "    plt.title(f'Segmented Image in {color_space_name}')\n",
    "    plt.axis('off')\n",
    "    plt.show()\n"
   ]
  }
 ],
 "metadata": {
  "kernelspec": {
   "display_name": "Python 3 (ipykernel)",
   "language": "python",
   "name": "python3"
  },
  "language_info": {
   "codemirror_mode": {
    "name": "ipython",
    "version": 3
   },
   "file_extension": ".py",
   "mimetype": "text/x-python",
   "name": "python",
   "nbconvert_exporter": "python",
   "pygments_lexer": "ipython3",
   "version": "3.9.12"
  }
 },
 "nbformat": 4,
 "nbformat_minor": 5
}
