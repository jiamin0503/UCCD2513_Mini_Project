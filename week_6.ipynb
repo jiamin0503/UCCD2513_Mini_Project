{
 "cells": [
  {
   "cell_type": "markdown",
   "id": "efa4b86e",
   "metadata": {},
   "source": [
    "# Weekly activity\n",
    "1. Write a program to segment the boat and the people on it from the background. Follow the instruction below:\n",
    "- Use 'boat.jpg' as input.\n",
    "- Apply Otsu thresholding.\n",
    "- Draw bounding box to identify the region where the boat and people are located.\n",
    "2. Write a program to visualize the effect of size of structuring element on the morphological transformation (e.g. erosion, dilation, opening, and closing).\n",
    "- Load the 'leaf.jfif' and perform thresholding to segment the leaf from the background.\n",
    "- Create a GUI containing trackbar to control the size of structuring element and display the resulting image on a window alongside the trackbar.\n",
    "3. Apply the steps shown in exercise 4 to segment the porcelain from these images: \"porcelain1.jfif\" - \"porcelain5.jfif\"."
   ]
  },
  {
   "cell_type": "code",
   "execution_count": 1,
   "id": "368cf737",
   "metadata": {},
   "outputs": [
    {
     "data": {
      "text/plain": [
       "True"
      ]
     },
     "execution_count": 1,
     "metadata": {},
     "output_type": "execute_result"
    }
   ],
   "source": [
    "import sys\n",
    "assert sys.version_info >= (3,7)\n",
    "\n",
    "import cv2 as cv\n",
    "import numpy as np\n",
    "import matplotlib.pyplot as plt\n",
    "\n",
    "if not cv.useOptimized():\n",
    "    cv.setUseOptimized(True)\n",
    "    \n",
    "cv.useOptimized()"
   ]
  },
  {
   "cell_type": "markdown",
   "id": "e9d86e9f",
   "metadata": {},
   "source": [
    "## Exercise 1"
   ]
  },
  {
   "cell_type": "code",
   "execution_count": 2,
   "id": "f42664a8",
   "metadata": {},
   "outputs": [],
   "source": [
    "img = cv.imread('images/boat.jpg', cv.IMREAD_COLOR)\n",
    "\n",
    "gray = cv.cvtColor(img, cv.COLOR_BGR2GRAY)\n",
    "\n",
    "_, thresholded = cv.threshold(gray, 0, 255, cv.THRESH_BINARY + cv.THRESH_OTSU)\n",
    "\n",
    "contours, _ = cv.findContours(thresholded, cv.RETR_EXTERNAL, cv.CHAIN_APPROX_SIMPLE)\n",
    "\n",
    "for contour in contours:\n",
    "    x, y, w, h = cv.boundingRect(contour)\n",
    "    cv.rectangle(img, (x, y), (x + w, y + h), (0, 255, 0), 2)\n",
    "\n",
    "cv.imshow('Segmentation Result', img)\n",
    "cv.waitKey(0)\n",
    "cv.destroyAllWindows()"
   ]
  },
  {
   "cell_type": "markdown",
   "id": "86ee8aed",
   "metadata": {},
   "source": [
    "## Exercise 2"
   ]
  },
  {
   "cell_type": "code",
   "execution_count": 3,
   "id": "4d4d3ea9",
   "metadata": {},
   "outputs": [],
   "source": [
    "def update_img(val):\n",
    "    kernel_size = cv.getTrackbarPos('Kernel Size', 'Morphological Transformation')\n",
    "    kernel = np.ones((kernel_size, kernel_size), np.uint8)\n",
    "\n",
    "    morphed = cv.morphologyEx(thresholded, cv.MORPH_CLOSE, kernel)\n",
    "\n",
    "    cv.imshow('Morphological Transformation', morphed)\n",
    "\n",
    "img = cv.imread('images/leaf.jfif', cv.IMREAD_COLOR)\n",
    "gray = cv.cvtColor(img, cv.COLOR_BGR2GRAY)\n",
    "_, thresholded = cv.threshold(gray, 100, 255, cv.THRESH_BINARY)\n",
    "\n",
    "cv.namedWindow('Morphological Transformation')\n",
    "cv.createTrackbar('Kernel Size', 'Morphological Transformation', 1, 30, update_img)\n",
    "update_img(0)\n",
    "\n",
    "cv.waitKey(0)\n",
    "cv.destroyAllWindows()"
   ]
  },
  {
   "cell_type": "markdown",
   "id": "5bfa41a0",
   "metadata": {},
   "source": [
    "## Exercise 3"
   ]
  },
  {
   "cell_type": "code",
   "execution_count": 4,
   "id": "2427d00a",
   "metadata": {},
   "outputs": [],
   "source": [
    "img_paths = [\"images/color_space/porcelain1.jfif\", \"images/color_space/porcelain2.jfif\", \"images/color_space/porcelain3.jfif\", \"images/color_space/porcelain4.jfif\", \"images/color_space/porcelain5.jfif\"]\n",
    "\n",
    "for img_path in img_paths:\n",
    "\n",
    "    img = cv.imread(img_path, cv.IMREAD_COLOR)\n",
    "\n",
    "    img_hsv = cv.cvtColor(img, cv.COLOR_BGR2HSV)\n",
    "\n",
    "    lower_blue = np.array([100, 50, 50])\n",
    "    upper_blue = np.array([130, 255, 255])\n",
    "\n",
    "    mask = cv.inRange(img_hsv, lower_blue, upper_blue)\n",
    "\n",
    "    segmented_img = cv.bitwise_and(img, img, mask=mask)\n",
    "\n",
    "    stacked_img = np.hstack((img, segmented_img))\n",
    "    cv.imshow('Original vs Segmented', stacked_img)\n",
    "    \n",
    "    cv.waitKey(0)\n",
    "\n",
    "cv.destroyAllWindows()"
   ]
  }
 ],
 "metadata": {
  "kernelspec": {
   "display_name": "Python 3 (ipykernel)",
   "language": "python",
   "name": "python3"
  },
  "language_info": {
   "codemirror_mode": {
    "name": "ipython",
    "version": 3
   },
   "file_extension": ".py",
   "mimetype": "text/x-python",
   "name": "python",
   "nbconvert_exporter": "python",
   "pygments_lexer": "ipython3",
   "version": "3.9.12"
  }
 },
 "nbformat": 4,
 "nbformat_minor": 5
}
